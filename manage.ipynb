{
 "cells": [
  {
   "cell_type": "code",
   "execution_count": 123,
   "id": "bbb52469",
   "metadata": {},
   "outputs": [],
   "source": [
    "import torch "
   ]
  },
  {
   "cell_type": "code",
   "execution_count": 124,
   "id": "c958e6d5",
   "metadata": {},
   "outputs": [],
   "source": [
    "with open ('dataset/train.csv', 'r', encoding='utf-8') as f:\n",
    "    text = f.read()"
   ]
  },
  {
   "cell_type": "code",
   "execution_count": 125,
   "id": "54d3df66",
   "metadata": {},
   "outputs": [
    {
     "name": "stdout",
     "output_type": "stream",
     "text": [
      "char_length: 1003862\n",
      "text\n",
      "\"First Citizen:\n",
      "Before we proceed any further, hear me speak.\n",
      "\n",
      "All:\n",
      "Speak, speak.\n",
      "\n",
      "First Citizen:\n",
      "You are all resolved rather to die than to famish?\n",
      "\n",
      "All:\n",
      "Resolved. resolved.\n",
      "\n",
      "First Citizen:\n",
      "First, you know Caius Marcius is chief enemy to the people.\n",
      "\n",
      "All:\n",
      "We know't, we know't.\n",
      "\n",
      "First Citizen:\n",
      "Let us kill him, and we'll have corn at our own price.\n",
      "Is't a verdict?\n",
      "\n",
      "All:\n",
      "No more talking on't; let it be done: away, away!\n",
      "\n",
      "Second Citizen:\n",
      "One word, good citizens.\n",
      "\n",
      "First Citizen:\n",
      "We are accounted poor citizens, the patricians good.\n",
      "What authority surfeits on would relieve us: if they\n",
      "would yield us but the superfluity, while it were\n",
      "wholesome, we might guess they relieved us humanely;\n",
      "but they think we are too dear: the leanness that\n",
      "afflicts us, the object of our misery, is as an\n",
      "inventory to particularise their abundance; our\n",
      "sufferance is a gain to them Let us revenge this with\n",
      "our pikes, ere we become rakes: for the gods know I\n",
      "speak this in hunger for bread, not in thirst for reve\n"
     ]
    }
   ],
   "source": [
    "print(\"char_length:\", len(text))\n",
    "print(text[:1000])"
   ]
  },
  {
   "cell_type": "code",
   "execution_count": 126,
   "id": "4ef4553c",
   "metadata": {},
   "outputs": [
    {
     "name": "stdout",
     "output_type": "stream",
     "text": [
      "\n",
      " !\"$&',-.3:;?ABCDEFGHIJKLMNOPQRSTUVWXYZabcdefghijklmnopqrstuvwxyz\n",
      "66\n"
     ]
    }
   ],
   "source": [
    "chars = sorted(list(set(text)))\n",
    "vocab_size = len(chars)\n",
    "print(''.join(chars))\n",
    "print(vocab_size)"
   ]
  },
  {
   "cell_type": "code",
   "execution_count": 127,
   "id": "304f9b9c",
   "metadata": {},
   "outputs": [
    {
     "name": "stdout",
     "output_type": "stream",
     "text": [
      "[47, 48, 1, 59, 47, 44, 57, 44]\n",
      "hi there\n"
     ]
    }
   ],
   "source": [
    "\n",
    "\n",
    "stoi = { ch:i for i, ch in enumerate(chars)}\n",
    "itos = { i:ch for i, ch in enumerate(chars)}\n",
    "encode = lambda s: [stoi[c] for c in s]\n",
    "decode = lambda l: ''.join([itos[i] for i in l])\n",
    "print(encode(\"hi there\"))\n",
    "print(decode(encode(\"hi there\")))\n"
   ]
  },
  {
   "cell_type": "code",
   "execution_count": 128,
   "id": "89fa6fb0",
   "metadata": {},
   "outputs": [
    {
     "name": "stdout",
     "output_type": "stream",
     "text": [
      "torch.Size([1003862]) torch.int64\n",
      "tensor([59, 44, 63, 59,  0,  3, 19, 48, 57, 58, 59,  1, 16, 48, 59, 48, 65, 44,\n",
      "        53, 11,  0, 15, 44, 45, 54, 57, 44,  1, 62, 44,  1, 55, 57, 54, 42, 44,\n",
      "        44, 43,  1, 40, 53, 64,  1, 45, 60, 57, 59, 47, 44, 57,  7,  1, 47, 44,\n",
      "        40, 57,  1, 52, 44,  1, 58, 55, 44, 40, 50,  9,  0,  0, 14, 51, 51, 11,\n",
      "         0, 32, 55, 44, 40, 50,  7,  1, 58, 55, 44, 40, 50,  9,  0,  0, 19, 48,\n",
      "        57, 58, 59,  1, 16, 48, 59, 48, 65, 44, 53, 11,  0, 38, 54, 60,  1, 40,\n",
      "        57, 44,  1, 40, 51, 51,  1, 57, 44, 58, 54, 51, 61, 44, 43,  1, 57, 40,\n",
      "        59, 47, 44, 57,  1, 59, 54,  1, 43, 48, 44,  1, 59, 47, 40, 53,  1, 59,\n",
      "        54,  1, 45, 40, 52, 48, 58, 47, 13,  0,  0, 14, 51, 51, 11,  0, 31, 44,\n",
      "        58, 54, 51, 61, 44, 43,  9,  1, 57, 44, 58, 54, 51, 61, 44, 43,  9,  0,\n",
      "         0, 19, 48, 57, 58, 59,  1, 16, 48, 59, 48, 65, 44, 53, 11,  0, 19, 48,\n",
      "        57, 58, 59,  7,  1, 64, 54, 60,  1, 50, 53, 54, 62,  1, 16, 40, 48, 60,\n",
      "        58,  1, 26, 40, 57, 42, 48, 60, 58,  1, 48, 58,  1, 42, 47, 48, 44, 45,\n",
      "         1, 44, 53, 44, 52, 64,  1, 59, 54,  1, 59, 47, 44,  1, 55, 44, 54, 55,\n",
      "        51, 44,  9,  0,  0, 14, 51, 51, 11,  0, 36, 44,  1, 50, 53, 54, 62,  6,\n",
      "        59,  7,  1, 62, 44,  1, 50, 53, 54, 62,  6, 59,  9,  0,  0, 19, 48, 57,\n",
      "        58, 59,  1, 16, 48, 59, 48, 65, 44, 53, 11,  0, 25, 44, 59,  1, 60, 58,\n",
      "         1, 50, 48, 51, 51,  1, 47, 48, 52,  7,  1, 40, 53, 43,  1, 62, 44,  6,\n",
      "        51, 51,  1, 47, 40, 61, 44,  1, 42, 54, 57, 53,  1, 40, 59,  1, 54, 60,\n",
      "        57,  1, 54, 62, 53,  1, 55, 57, 48, 42, 44,  9,  0, 22, 58,  6, 59,  1,\n",
      "        40,  1, 61, 44, 57, 43, 48, 42, 59, 13,  0,  0, 14, 51, 51, 11,  0, 27,\n",
      "        54,  1, 52, 54, 57, 44,  1, 59, 40, 51, 50, 48, 53, 46,  1, 54, 53,  6,\n",
      "        59, 12,  1, 51, 44, 59,  1, 48, 59,  1, 41, 44,  1, 43, 54, 53, 44, 11,\n",
      "         1, 40, 62, 40, 64,  7,  1, 40, 62, 40, 64,  2,  0,  0, 32, 44, 42, 54,\n",
      "        53, 43,  1, 16, 48, 59, 48, 65, 44, 53, 11,  0, 28, 53, 44,  1, 62, 54,\n",
      "        57, 43,  7,  1, 46, 54, 54, 43,  1, 42, 48, 59, 48, 65, 44, 53, 58,  9,\n",
      "         0,  0, 19, 48, 57, 58, 59,  1, 16, 48, 59, 48, 65, 44, 53, 11,  0, 36,\n",
      "        44,  1, 40, 57, 44,  1, 40, 42, 42, 54, 60, 53, 59, 44, 43,  1, 55, 54,\n",
      "        54, 57,  1, 42, 48, 59, 48, 65, 44, 53, 58,  7,  1, 59, 47, 44,  1, 55,\n",
      "        40, 59, 57, 48, 42, 48, 40, 53, 58,  1, 46, 54, 54, 43,  9,  0, 36, 47,\n",
      "        40, 59,  1, 40, 60, 59, 47, 54, 57, 48, 59, 64,  1, 58, 60, 57, 45, 44,\n",
      "        48, 59, 58,  1, 54, 53,  1, 62, 54, 60, 51, 43,  1, 57, 44, 51, 48, 44,\n",
      "        61, 44,  1, 60, 58, 11,  1, 48, 45,  1, 59, 47, 44, 64,  0, 62, 54, 60,\n",
      "        51, 43,  1, 64, 48, 44, 51, 43,  1, 60, 58,  1, 41, 60, 59,  1, 59, 47,\n",
      "        44,  1, 58, 60, 55, 44, 57, 45, 51, 60, 48, 59, 64,  7,  1, 62, 47, 48,\n",
      "        51, 44,  1, 48, 59,  1, 62, 44, 57, 44,  0, 62, 47, 54, 51, 44, 58, 54,\n",
      "        52, 44,  7,  1, 62, 44,  1, 52, 48, 46, 47, 59,  1, 46, 60, 44, 58, 58,\n",
      "         1, 59, 47, 44, 64,  1, 57, 44, 51, 48, 44, 61, 44, 43,  1, 60, 58,  1,\n",
      "        47, 60, 52, 40, 53, 44, 51, 64, 12,  0, 41, 60, 59,  1, 59, 47, 44, 64,\n",
      "         1, 59, 47, 48, 53, 50,  1, 62, 44,  1, 40, 57, 44,  1, 59, 54, 54,  1,\n",
      "        43, 44, 40, 57, 11,  1, 59, 47, 44,  1, 51, 44, 40, 53, 53, 44, 58, 58,\n",
      "         1, 59, 47, 40, 59,  0, 40, 45, 45, 51, 48, 42, 59, 58,  1, 60, 58,  7,\n",
      "         1, 59, 47, 44,  1, 54, 41, 49, 44, 42, 59,  1, 54, 45,  1, 54, 60, 57,\n",
      "         1, 52, 48, 58, 44, 57, 64,  7,  1, 48, 58,  1, 40, 58,  1, 40, 53,  0,\n",
      "        48, 53, 61, 44, 53, 59, 54, 57, 64,  1, 59, 54,  1, 55, 40, 57, 59, 48,\n",
      "        42, 60, 51, 40, 57, 48, 58, 44,  1, 59, 47, 44, 48, 57,  1, 40, 41, 60,\n",
      "        53, 43, 40, 53, 42, 44, 12,  1, 54, 60, 57,  0, 58, 60, 45, 45, 44, 57,\n",
      "        40, 53, 42, 44,  1, 48, 58,  1, 40,  1, 46, 40, 48, 53,  1, 59, 54,  1,\n",
      "        59, 47, 44, 52,  1, 25, 44, 59,  1, 60, 58,  1, 57, 44, 61, 44, 53, 46,\n",
      "        44,  1, 59, 47, 48, 58,  1, 62, 48, 59, 47,  0, 54, 60, 57,  1, 55, 48,\n",
      "        50, 44, 58,  7,  1, 44, 57, 44,  1, 62, 44,  1, 41, 44, 42, 54, 52, 44,\n",
      "         1, 57, 40, 50, 44, 58, 11,  1, 45, 54, 57,  1, 59, 47, 44,  1, 46, 54,\n",
      "        43, 58,  1, 50, 53, 54, 62,  1, 22,  0, 58, 55, 44, 40, 50,  1, 59, 47,\n",
      "        48, 58,  1, 48, 53,  1, 47, 60, 53, 46, 44, 57,  1, 45, 54, 57,  1, 41,\n",
      "        57, 44, 40, 43,  7,  1, 53, 54, 59,  1, 48, 53,  1, 59, 47, 48, 57, 58,\n",
      "        59,  1, 45, 54, 57,  1, 57, 44, 61, 44])\n"
     ]
    }
   ],
   "source": [
    "import torch \n",
    "data = torch.tensor(encode(text), dtype=torch.long)\n",
    "print(data.shape, data.dtype)\n",
    "print(data[:1000])"
   ]
  },
  {
   "cell_type": "code",
   "execution_count": 129,
   "id": "95a1e68b",
   "metadata": {},
   "outputs": [],
   "source": [
    "n = int(0.9*len(data))\n",
    "train_data = data [:n]\n",
    "val_data = data[n:]"
   ]
  },
  {
   "cell_type": "code",
   "execution_count": 130,
   "id": "27c28d39",
   "metadata": {},
   "outputs": [
    {
     "data": {
      "text/plain": [
       "tensor([59, 44, 63, 59,  0,  3, 19, 48, 57])"
      ]
     },
     "execution_count": 130,
     "metadata": {},
     "output_type": "execute_result"
    }
   ],
   "source": [
    "\n",
    "\n",
    "block_size = 8\n",
    "train_data[:block_size+1]"
   ]
  },
  {
   "cell_type": "code",
   "execution_count": 131,
   "id": "fb508274",
   "metadata": {},
   "outputs": [
    {
     "name": "stdout",
     "output_type": "stream",
     "text": [
      "when input is tensor([59]) the target: 44\n",
      "when input is tensor([59, 44]) the target: 63\n",
      "when input is tensor([59, 44, 63]) the target: 59\n",
      "when input is tensor([59, 44, 63, 59]) the target: 0\n",
      "when input is tensor([59, 44, 63, 59,  0]) the target: 3\n",
      "when input is tensor([59, 44, 63, 59,  0,  3]) the target: 19\n",
      "when input is tensor([59, 44, 63, 59,  0,  3, 19]) the target: 48\n",
      "when input is tensor([59, 44, 63, 59,  0,  3, 19, 48]) the target: 57\n"
     ]
    }
   ],
   "source": [
    "x = train_data[:block_size]\n",
    "y = train_data[1:block_size + 1]\n",
    "for t in range (block_size):\n",
    "    context = x[:t+1]\n",
    "    target = y[t]\n",
    "    print(f\"when input is {context} the target: {target}\")\n",
    "    "
   ]
  },
  {
   "cell_type": "code",
   "execution_count": 132,
   "id": "ef3a3195",
   "metadata": {},
   "outputs": [
    {
     "name": "stdout",
     "output_type": "stream",
     "text": [
      "inputs:\n",
      "torch.Size([4, 8])\n",
      "tensor([[ 1, 58, 59, 40, 64,  1, 59, 47],\n",
      "        [40, 61, 44,  1, 59, 48, 51, 51],\n",
      "        [ 7,  1, 58, 48, 59,  1, 52, 64],\n",
      "        [43, 40, 51,  1, 45, 51, 54, 62]])\n",
      "targets:\n",
      "torch.Size([4, 8])\n",
      "tensor([[58, 59, 40, 64,  1, 59, 47, 44],\n",
      "        [61, 44,  1, 59, 48, 51, 51,  1],\n",
      "        [ 1, 58, 48, 59,  1, 52, 64,  1],\n",
      "        [40, 51,  1, 45, 51, 54, 62, 44]])\n",
      "---\n",
      "when input is [1] the target: 58\n",
      "when input is [1, 58] the target: 59\n",
      "when input is [1, 58, 59] the target: 40\n",
      "when input is [1, 58, 59, 40] the target: 64\n",
      "when input is [1, 58, 59, 40, 64] the target: 1\n",
      "when input is [1, 58, 59, 40, 64, 1] the target: 59\n",
      "when input is [1, 58, 59, 40, 64, 1, 59] the target: 47\n",
      "when input is [1, 58, 59, 40, 64, 1, 59, 47] the target: 44\n",
      "when input is [40] the target: 61\n",
      "when input is [40, 61] the target: 44\n",
      "when input is [40, 61, 44] the target: 1\n",
      "when input is [40, 61, 44, 1] the target: 59\n",
      "when input is [40, 61, 44, 1, 59] the target: 48\n",
      "when input is [40, 61, 44, 1, 59, 48] the target: 51\n",
      "when input is [40, 61, 44, 1, 59, 48, 51] the target: 51\n",
      "when input is [40, 61, 44, 1, 59, 48, 51, 51] the target: 1\n",
      "when input is [7] the target: 1\n",
      "when input is [7, 1] the target: 58\n",
      "when input is [7, 1, 58] the target: 48\n",
      "when input is [7, 1, 58, 48] the target: 59\n",
      "when input is [7, 1, 58, 48, 59] the target: 1\n",
      "when input is [7, 1, 58, 48, 59, 1] the target: 52\n",
      "when input is [7, 1, 58, 48, 59, 1, 52] the target: 64\n",
      "when input is [7, 1, 58, 48, 59, 1, 52, 64] the target: 1\n",
      "when input is [43] the target: 40\n",
      "when input is [43, 40] the target: 51\n",
      "when input is [43, 40, 51] the target: 1\n",
      "when input is [43, 40, 51, 1] the target: 45\n",
      "when input is [43, 40, 51, 1, 45] the target: 51\n",
      "when input is [43, 40, 51, 1, 45, 51] the target: 54\n",
      "when input is [43, 40, 51, 1, 45, 51, 54] the target: 62\n",
      "when input is [43, 40, 51, 1, 45, 51, 54, 62] the target: 44\n"
     ]
    }
   ],
   "source": [
    "torch.manual_seed(1337)\n",
    "batch_size = 4\n",
    "block_size = 8 \n",
    "\n",
    "def get_batch(split):\n",
    "    data = train_data if split == 'train' else val_data\n",
    "    ix = torch.randint(len(data) - block_size, (batch_size,))\n",
    "    x = torch.stack([data[i:i+block_size] for i in ix ])\n",
    "    y = torch.stack([data[i+1:i+block_size+1] for i in ix])\n",
    "    return x,y \n",
    "\n",
    "xb, yb = get_batch('train')\n",
    "print('inputs:')\n",
    "print(xb.shape)\n",
    "print(xb)\n",
    "print('targets:')\n",
    "print(yb.shape)\n",
    "print(yb)\n",
    "\n",
    "print('---')\n",
    "\n",
    "for b in range(batch_size):\n",
    "        for t in range(block_size):\n",
    "              context = xb[b, :t+1]\n",
    "              target = yb[b,t]\n",
    "              print(f\"when input is {context.tolist()} the target: {target}\")\n",
    "              \n"
   ]
  },
  {
   "cell_type": "code",
   "execution_count": 133,
   "id": "cbd0b9b9",
   "metadata": {},
   "outputs": [
    {
     "name": "stdout",
     "output_type": "stream",
     "text": [
      "torch.Size([32, 66])\n",
      "tensor(4.5633, grad_fn=<NllLossBackward0>)\n",
      "\n",
      "w&&S-d:CyEXkWwz-ZamuSHW\n",
      "&ECDM3llkn \"cZQjw-UYmLLO$ZnsHs\n",
      "wd\"ygtuMaczY-F;EIEVjuAF\"Uk?PsSKRYBoEIQjZZKevc\n"
     ]
    }
   ],
   "source": [
    "import torch\n",
    "import torch.nn as nn\n",
    "from torch.nn import functional as F\n",
    "torch.manual_seed(1337)\n",
    "\n",
    "class BigramLanguageModel(nn.Module):\n",
    "\n",
    "    def __init__(self, vocab_size):\n",
    "        super().__init__()\n",
    "\n",
    "        self.token_embedding_table = nn.Embedding(vocab_size, vocab_size)\n",
    "\n",
    "    def forward(self, idx, targets=None):\n",
    "\n",
    "        logits = self.token_embedding_table(idx) \n",
    "\n",
    "        if targets is None:\n",
    "            loss = None\n",
    "        else:\n",
    "            B, T, C = logits.shape\n",
    "            logits = logits.view(B*T, C)\n",
    "            targets = targets.view(B*T)\n",
    "            loss = F.cross_entropy(logits, targets)\n",
    "\n",
    "        return logits, loss\n",
    "\n",
    "    def generate(self, idx, max_new_tokens):\n",
    "\n",
    "        for _ in range(max_new_tokens):\n",
    "        \n",
    "            logits, loss = self(idx)\n",
    "     \n",
    "            logits = logits[:, -1, :] \n",
    "            probs = F.softmax(logits, dim=-1) \n",
    "          \n",
    "            idx_next = torch.multinomial(probs, num_samples=1)\n",
    "            \n",
    "            idx = torch.cat((idx, idx_next), dim=1) \n",
    "        return idx\n",
    "\n",
    "m = BigramLanguageModel(vocab_size)\n",
    "logits, loss = m(xb, yb)\n",
    "print(logits.shape)\n",
    "print(loss)\n",
    "\n",
    "print(decode(m.generate(idx = torch.zeros((1, 1), dtype=torch.long), max_new_tokens=100)[0].tolist()))\n"
   ]
  },
  {
   "cell_type": "code",
   "execution_count": 134,
   "id": "582ac330",
   "metadata": {},
   "outputs": [],
   "source": [
    "\n",
    "optimizer = torch.optim.AdamW(m.parameters(), lr=1e-3)"
   ]
  },
  {
   "cell_type": "code",
   "execution_count": 135,
   "id": "a6ca579d",
   "metadata": {},
   "outputs": [
    {
     "name": "stdout",
     "output_type": "stream",
     "text": [
      "2.491783380508423\n"
     ]
    }
   ],
   "source": [
    "batch_size = 32\n",
    "for steps in range(100000): \n",
    "\n",
    "\n",
    "    xb, yb = get_batch('train')\n",
    "\n",
    "\n",
    "    logits, loss = m(xb, yb)\n",
    "    optimizer.zero_grad(set_to_none=True)\n",
    "    loss.backward()\n",
    "    optimizer.step()\n",
    "\n",
    "print(loss.item())\n"
   ]
  },
  {
   "cell_type": "code",
   "execution_count": 136,
   "id": "ad1fe329",
   "metadata": {},
   "outputs": [
    {
     "name": "stdout",
     "output_type": "stream",
     "text": [
      "\n",
      "Gindeghed thasores minthe; les qul mer, tindory fiene wima m, r LI s han?\n",
      "Whe is, I thesar m Fis:\n",
      "TI:\n",
      "Thy, oon woninjun iss mave\n",
      "Thy be,\n",
      "\n",
      "A:\n",
      "MO that her is wishaler he t Romerd y inoresor s e thuers g ly d a aline ds;\n",
      "Kithed: ke whomime GERI ero ucessskste dat resuld hengr bawer omappl nos; thindeis ye pland:\n",
      "ARLO:\n",
      "Whirg swatu te hengsouck thay, himavete; cy Hedaway,\n",
      "Asovieers, opor tthe.\n",
      "RK:\n",
      "FOLongeemy GAsofohwferakes CI If I blouppse msore sho CEl t moy cean; meree s and. wis\n",
      "I:\n",
      "Pavef s tthe t\n"
     ]
    }
   ],
   "source": [
    "print(decode(m.generate(idx = torch.zeros((1, 1), dtype=torch.long), max_new_tokens=500)[0].tolist()))"
   ]
  },
  {
   "cell_type": "code",
   "execution_count": 137,
   "id": "e1a83429",
   "metadata": {},
   "outputs": [
    {
     "name": "stdout",
     "output_type": "stream",
     "text": [
      "a=\n",
      "tensor([[1.0000, 0.0000, 0.0000],\n",
      "        [0.5000, 0.5000, 0.0000],\n",
      "        [0.3333, 0.3333, 0.3333]])\n",
      "--\n",
      "b=\n",
      "tensor([[2., 7.],\n",
      "        [6., 4.],\n",
      "        [6., 5.]])\n",
      "--\n",
      "c=\n",
      "tensor([[2.0000, 7.0000],\n",
      "        [4.0000, 5.5000],\n",
      "        [4.6667, 5.3333]])\n"
     ]
    }
   ],
   "source": [
    "torch.manual_seed(42)\n",
    "a = torch.tril(torch.ones(3, 3))\n",
    "a = a / torch.sum(a, 1, keepdim=True)\n",
    "b = torch.randint(0,10,(3,2)).float()\n",
    "c = a @ b\n",
    "print('a=')\n",
    "print(a)\n",
    "print('--')\n",
    "print('b=')\n",
    "print(b)\n",
    "print('--')\n",
    "print('c=')\n",
    "print(c)\n",
    "\n",
    "torch.manual_seed(1337)\n",
    "B,T,C = 4,8,2 \n",
    "x = torch.randn(B,T,C)\n",
    "x.shape\n",
    "\n",
    "xbow = torch.zeros((B,T,C))\n",
    "for b in range(B):\n",
    "    for t in range(T):\n",
    "        xprev = x[b,:t+1] # (t,C)\n",
    "        xbow[b,t] = torch.mean(xprev, 0)\n"
   ]
  },
  {
   "cell_type": "code",
   "execution_count": 138,
   "id": "c79918b1",
   "metadata": {},
   "outputs": [
    {
     "data": {
      "text/plain": [
       "True"
      ]
     },
     "execution_count": 138,
     "metadata": {},
     "output_type": "execute_result"
    }
   ],
   "source": [
    "\n",
    "wei = torch.tril(torch.ones(T, T))\n",
    "wei = wei / wei.sum(1, keepdim=True)\n",
    "xbow2 = wei @ x # (B, T, T) @ (B, T, C) ----> (B, T, C)\n",
    "torch.allclose(xbow, xbow2)"
   ]
  },
  {
   "cell_type": "code",
   "execution_count": 139,
   "id": "c6d1c7db",
   "metadata": {},
   "outputs": [
    {
     "data": {
      "text/plain": [
       "True"
      ]
     },
     "execution_count": 139,
     "metadata": {},
     "output_type": "execute_result"
    }
   ],
   "source": [
    "\n",
    "tril = torch.tril(torch.ones(T, T))\n",
    "wei = torch.zeros((T,T))\n",
    "wei = wei.masked_fill(tril == 0, float('-inf'))\n",
    "wei = F.softmax(wei, dim=-1)\n",
    "xbow3 = wei @ x\n",
    "torch.allclose(xbow, xbow3)\n"
   ]
  },
  {
   "cell_type": "code",
   "execution_count": 140,
   "id": "4c3a015a",
   "metadata": {},
   "outputs": [
    {
     "data": {
      "text/plain": [
       "torch.Size([4, 8, 16])"
      ]
     },
     "execution_count": 140,
     "metadata": {},
     "output_type": "execute_result"
    }
   ],
   "source": [
    "# version 4: self-attention!\n",
    "torch.manual_seed(1337)\n",
    "B,T,C = 4,8,32 # batch, time, channels\n",
    "x = torch.randn(B,T,C)\n",
    "\n",
    "# let's see a single Head perform self-attention\n",
    "head_size = 16\n",
    "key = nn.Linear(C, head_size, bias=False)\n",
    "query = nn.Linear(C, head_size, bias=False)\n",
    "value = nn.Linear(C, head_size, bias=False)\n",
    "k = key(x)   # (B, T, 16)\n",
    "q = query(x) # (B, T, 16)\n",
    "wei =  q @ k.transpose(-2, -1) # (B, T, 16) @ (B, 16, T) ---> (B, T, T)\n",
    "\n",
    "tril = torch.tril(torch.ones(T, T))\n",
    "#wei = torch.zeros((T,T))\n",
    "wei = wei.masked_fill(tril == 0, float('-inf'))\n",
    "wei = F.softmax(wei, dim=-1)\n",
    "\n",
    "v = value(x)\n",
    "out = wei @ v\n",
    "#out = wei @ x\n",
    "\n",
    "out.shape"
   ]
  }
 ],
 "metadata": {
  "kernelspec": {
   "display_name": "base",
   "language": "python",
   "name": "python3"
  },
  "language_info": {
   "codemirror_mode": {
    "name": "ipython",
    "version": 3
   },
   "file_extension": ".py",
   "mimetype": "text/x-python",
   "name": "python",
   "nbconvert_exporter": "python",
   "pygments_lexer": "ipython3",
   "version": "3.11.5"
  }
 },
 "nbformat": 4,
 "nbformat_minor": 5
}
